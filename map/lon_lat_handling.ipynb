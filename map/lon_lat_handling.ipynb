{
 "cells": [
  {
   "cell_type": "code",
   "execution_count": 2,
   "metadata": {},
   "outputs": [],
   "source": [
    "import pandas as pd\n",
    "import glob"
   ]
  },
  {
   "cell_type": "code",
   "execution_count": 3,
   "metadata": {},
   "outputs": [
    {
     "data": {
      "text/plain": [
       "['/Users/alexcoleman/Downloads/Flood impacts.csv']"
      ]
     },
     "execution_count": 3,
     "metadata": {},
     "output_type": "execute_result"
    }
   ],
   "source": [
    "glob.glob('/Users/alexcoleman/Downloads/Floo*')"
   ]
  },
  {
   "cell_type": "code",
   "execution_count": 6,
   "metadata": {},
   "outputs": [],
   "source": [
    "data = pd.read_csv(glob.glob('/Users/alexcoleman/Downloads/Floo*')[0], encoding='latin')"
   ]
  },
  {
   "cell_type": "code",
   "execution_count": 16,
   "metadata": {},
   "outputs": [],
   "source": [
    "data['lon'] = data['Longitude, Latitude'].str.split(',', expand=True).iloc[:,0]"
   ]
  },
  {
   "cell_type": "code",
   "execution_count": 17,
   "metadata": {},
   "outputs": [],
   "source": [
    "data['lat'] = data['Longitude, Latitude'].str.split(',', expand=True).iloc[:,1]"
   ]
  },
  {
   "cell_type": "code",
   "execution_count": 18,
   "metadata": {},
   "outputs": [
    {
     "data": {
      "text/html": [
       "<div>\n",
       "<style scoped>\n",
       "    .dataframe tbody tr th:only-of-type {\n",
       "        vertical-align: middle;\n",
       "    }\n",
       "\n",
       "    .dataframe tbody tr th {\n",
       "        vertical-align: top;\n",
       "    }\n",
       "\n",
       "    .dataframe thead th {\n",
       "        text-align: right;\n",
       "    }\n",
       "</style>\n",
       "<table border=\"1\" class=\"dataframe\">\n",
       "  <thead>\n",
       "    <tr style=\"text-align: right;\">\n",
       "      <th></th>\n",
       "      <th>Impact ID</th>\n",
       "      <th>Gauge</th>\n",
       "      <th>RLOI_ID</th>\n",
       "      <th>Value</th>\n",
       "      <th>Units</th>\n",
       "      <th>Longitude, Latitude</th>\n",
       "      <th>ThresholdComment</th>\n",
       "      <th>Short Name</th>\n",
       "      <th>Description</th>\n",
       "      <th>Type</th>\n",
       "      <th>ObsFloodYear</th>\n",
       "      <th>ObsFloodMonth</th>\n",
       "      <th>Source</th>\n",
       "      <th>lon</th>\n",
       "      <th>lat</th>\n",
       "    </tr>\n",
       "  </thead>\n",
       "  <tbody>\n",
       "    <tr>\n",
       "      <th>0</th>\n",
       "      <td>1</td>\n",
       "      <td>River Aire at Beal Weir Bridge</td>\n",
       "      <td>8017</td>\n",
       "      <td>3.75</td>\n",
       "      <td>mALD</td>\n",
       "      <td>-1.192680,53.720666</td>\n",
       "      <td>Kellington Ings will start to fill\\nBirkin Hol...</td>\n",
       "      <td>Defence at Kellington Ings</td>\n",
       "      <td>Defence at Kellington Ings will start to fill</td>\n",
       "      <td>Defence</td>\n",
       "      <td>NaN</td>\n",
       "      <td>NaN</td>\n",
       "      <td>Flood Resiliance</td>\n",
       "      <td>-1.192680</td>\n",
       "      <td>53.720666</td>\n",
       "    </tr>\n",
       "    <tr>\n",
       "      <th>1</th>\n",
       "      <td>2</td>\n",
       "      <td>River Aire at Beal Weir Bridge</td>\n",
       "      <td>8017</td>\n",
       "      <td>3.75</td>\n",
       "      <td>mALD</td>\n",
       "      <td>-1.192680,53.720666</td>\n",
       "      <td>Kellington Ings will start to fill\\nBirkin Hol...</td>\n",
       "      <td>Defence at Birkin Holme</td>\n",
       "      <td>Defence at Birkin Holme Washland will start to...</td>\n",
       "      <td>Defence</td>\n",
       "      <td>NaN</td>\n",
       "      <td>NaN</td>\n",
       "      <td>Flood Resiliance</td>\n",
       "      <td>-1.192680</td>\n",
       "      <td>53.720666</td>\n",
       "    </tr>\n",
       "    <tr>\n",
       "      <th>2</th>\n",
       "      <td>3</td>\n",
       "      <td>River Aire at Castleford</td>\n",
       "      <td>8042</td>\n",
       "      <td>3.10</td>\n",
       "      <td>mALD</td>\n",
       "      <td>-1.355526,53.734916</td>\n",
       "      <td>Barnsdale Rd. likely to flood</td>\n",
       "      <td>Flooding at Barnsdale Road</td>\n",
       "      <td>Flooding at Barnsdale Road</td>\n",
       "      <td>Road Impact</td>\n",
       "      <td>NaN</td>\n",
       "      <td>NaN</td>\n",
       "      <td>Flood Resiliance</td>\n",
       "      <td>-1.355526</td>\n",
       "      <td>53.734916</td>\n",
       "    </tr>\n",
       "    <tr>\n",
       "      <th>3</th>\n",
       "      <td>4</td>\n",
       "      <td>River Swale at Catterick Bridge</td>\n",
       "      <td>8043</td>\n",
       "      <td>2.95</td>\n",
       "      <td>mALD</td>\n",
       "      <td>-1.651031,54.388658</td>\n",
       "      <td>A6136 at Catterick Br. expected to flood</td>\n",
       "      <td>Flooding on A6136</td>\n",
       "      <td>Flooding on A6136 at Catterick Bridge</td>\n",
       "      <td>Road Impact</td>\n",
       "      <td>NaN</td>\n",
       "      <td>NaN</td>\n",
       "      <td>Flood Resiliance</td>\n",
       "      <td>-1.651031</td>\n",
       "      <td>54.388658</td>\n",
       "    </tr>\n",
       "    <tr>\n",
       "      <th>4</th>\n",
       "      <td>5</td>\n",
       "      <td>Aire Washlands at Allerton Ings</td>\n",
       "      <td>8320</td>\n",
       "      <td>1.27</td>\n",
       "      <td>mALD</td>\n",
       "      <td>-1.350663,53.727120</td>\n",
       "      <td>Castleford Car Centre flooded</td>\n",
       "      <td>Flooding at Castleford</td>\n",
       "      <td>Flooding at Castleford car centre</td>\n",
       "      <td>Property Impact</td>\n",
       "      <td>2011.0</td>\n",
       "      <td>February</td>\n",
       "      <td>Flood Resiliance</td>\n",
       "      <td>-1.350663</td>\n",
       "      <td>53.727120</td>\n",
       "    </tr>\n",
       "  </tbody>\n",
       "</table>\n",
       "</div>"
      ],
      "text/plain": [
       "   Impact ID                            Gauge  RLOI_ID  Value Units  \\\n",
       "0          1   River Aire at Beal Weir Bridge     8017   3.75  mALD   \n",
       "1          2   River Aire at Beal Weir Bridge     8017   3.75  mALD   \n",
       "2          3         River Aire at Castleford     8042   3.10  mALD   \n",
       "3          4  River Swale at Catterick Bridge     8043   2.95  mALD   \n",
       "4          5  Aire Washlands at Allerton Ings     8320   1.27  mALD   \n",
       "\n",
       "   Longitude, Latitude                                   ThresholdComment  \\\n",
       "0  -1.192680,53.720666  Kellington Ings will start to fill\\nBirkin Hol...   \n",
       "1  -1.192680,53.720666  Kellington Ings will start to fill\\nBirkin Hol...   \n",
       "2  -1.355526,53.734916                      Barnsdale Rd. likely to flood   \n",
       "3  -1.651031,54.388658           A6136 at Catterick Br. expected to flood   \n",
       "4  -1.350663,53.727120                      Castleford Car Centre flooded   \n",
       "\n",
       "                   Short Name  \\\n",
       "0  Defence at Kellington Ings   \n",
       "1     Defence at Birkin Holme   \n",
       "2  Flooding at Barnsdale Road   \n",
       "3           Flooding on A6136   \n",
       "4      Flooding at Castleford   \n",
       "\n",
       "                                         Description             Type  \\\n",
       "0      Defence at Kellington Ings will start to fill          Defence   \n",
       "1  Defence at Birkin Holme Washland will start to...          Defence   \n",
       "2                         Flooding at Barnsdale Road      Road Impact   \n",
       "3              Flooding on A6136 at Catterick Bridge      Road Impact   \n",
       "4                  Flooding at Castleford car centre  Property Impact   \n",
       "\n",
       "   ObsFloodYear ObsFloodMonth            Source        lon        lat  \n",
       "0           NaN           NaN  Flood Resiliance  -1.192680  53.720666  \n",
       "1           NaN           NaN  Flood Resiliance  -1.192680  53.720666  \n",
       "2           NaN           NaN  Flood Resiliance  -1.355526  53.734916  \n",
       "3           NaN           NaN  Flood Resiliance  -1.651031  54.388658  \n",
       "4        2011.0      February  Flood Resiliance  -1.350663  53.727120  "
      ]
     },
     "execution_count": 18,
     "metadata": {},
     "output_type": "execute_result"
    }
   ],
   "source": [
    "data.head()"
   ]
  },
  {
   "cell_type": "code",
   "execution_count": 19,
   "metadata": {},
   "outputs": [],
   "source": [
    "data.to_csv('manipulated_flood_risk.csv')"
   ]
  },
  {
   "cell_type": "code",
   "execution_count": null,
   "metadata": {},
   "outputs": [],
   "source": []
  }
 ],
 "metadata": {
  "kernelspec": {
   "display_name": "Python [conda env:yoflood]",
   "language": "python",
   "name": "conda-env-yoflood-py"
  },
  "language_info": {
   "codemirror_mode": {
    "name": "ipython",
    "version": 3
   },
   "file_extension": ".py",
   "mimetype": "text/x-python",
   "name": "python",
   "nbconvert_exporter": "python",
   "pygments_lexer": "ipython3",
   "version": "3.7.3"
  }
 },
 "nbformat": 4,
 "nbformat_minor": 2
}
